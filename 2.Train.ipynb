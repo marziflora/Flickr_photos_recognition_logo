{
 "cells": [
  {
   "cell_type": "code",
   "execution_count": null,
   "metadata": {},
   "outputs": [],
   "source": [
    "from os import listdir\n",
    "import os\n",
    "import pandas as pd\n",
    "import requests\n",
    "import shutil \n",
    "import matplotlib.pyplot as plt\n",
    "import matplotlib.patches as patches\n",
    "from PIL import Image\n",
    "import numpy as np\n",
    "\n",
    "plt.rcParams['axes.facecolor'] = 'white'\n",
    "plt.rcParams['figure.facecolor'] = 'white'\n",
    "plt.rcParams['text.color'] = 'black'\n",
    "folder_dir = 'flickr_logos_27_dataset'\n",
    "photos_loc = 'flickr_logos_27_dataset_images'\n",
    "photos_dir = os.path.join(folder_dir, photos_loc)\n",
    "photos = listdir(photos_dir)\n",
    "files = listdir(folder_dir)\n",
    "distractor_url = pd.read_csv(os.path.join(folder_dir,files[0]), header=None, names=['url'])\n",
    "query_annotation = pd.read_csv(os.path.join(folder_dir, files[2]), sep=\"\\t\", names=['file', 'label'])          \n",
    "training_annotation = pd.read_csv(os.path.join(folder_dir,files[3]), sep=' ', header=None, index_col=False)        \n",
    "training_annotation.drop(7, axis=1, inplace=True)\n",
    "training_annotation.columns =  ['file', 'label', 'Sub', 'X1', 'Y1', 'X2', 'Y2']   "
   ]
  },
  {
   "cell_type": "code",
   "execution_count": null,
   "metadata": {},
   "outputs": [],
   "source": []
  },
  {
   "cell_type": "code",
   "execution_count": null,
   "metadata": {},
   "outputs": [],
   "source": []
  },
  {
   "cell_type": "code",
   "execution_count": null,
   "metadata": {},
   "outputs": [],
   "source": [
    "# X_train = []\n",
    "# y_train = []\n",
    "\n",
    "# for i, j in enumerate(training_annotation):\n",
    "#     for k, l in enumerate(photos):\n",
    "#         if len(training_annotation[training_annotation.file==l]) != 0:\n",
    "#             X_train.append(l)\n",
    "#             y_train.append(training_annotation.iloc[i])\n",
    "# #         print(k)\n",
    "# print(len(X_train))\n",
    "# print(len(y_train))"
   ]
  },
  {
   "cell_type": "code",
   "execution_count": null,
   "metadata": {},
   "outputs": [],
   "source": [
    "def resize()\n",
    "\n",
    "# def img_to_array_resize(img):\n",
    "#     im_arr = np.array(Image.open(os.path.join(photos_dir, img)), dtype=np.uint8)\n",
    "#     print(im_arr.shape)\n",
    "#     #RESIZING\n",
    "    \n",
    "#     return im_arr\n",
    "# img_to_array_resize(X_train[1])"
   ]
  }
 ],
 "metadata": {
  "hide_input": false,
  "kernelspec": {
   "display_name": "Python 3",
   "language": "python",
   "name": "python3"
  },
  "language_info": {
   "codemirror_mode": {
    "name": "ipython",
    "version": 3
   },
   "file_extension": ".py",
   "mimetype": "text/x-python",
   "name": "python",
   "nbconvert_exporter": "python",
   "pygments_lexer": "ipython3",
   "version": "3.7.4"
  }
 },
 "nbformat": 4,
 "nbformat_minor": 2
}
